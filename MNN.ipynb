{
 "cells": [
  {
   "cell_type": "code",
   "execution_count": 1,
   "id": "4b0b0761-2786-452c-b21b-50b3f5194290",
   "metadata": {},
   "outputs": [
    {
     "name": "stdout",
     "output_type": "stream",
     "text": [
      "Requirement already satisfied: matplotlib in c:\\users\\ubayd\\miniconda3\\lib\\site-packages (3.10.0)Note: you may need to restart the kernel to use updated packages.\n",
      "\n",
      "Requirement already satisfied: contourpy>=1.0.1 in c:\\users\\ubayd\\miniconda3\\lib\\site-packages (from matplotlib) (1.3.1)\n",
      "Requirement already satisfied: cycler>=0.10 in c:\\users\\ubayd\\miniconda3\\lib\\site-packages (from matplotlib) (0.12.1)\n",
      "Requirement already satisfied: fonttools>=4.22.0 in c:\\users\\ubayd\\miniconda3\\lib\\site-packages (from matplotlib) (4.55.6)\n",
      "Requirement already satisfied: kiwisolver>=1.3.1 in c:\\users\\ubayd\\miniconda3\\lib\\site-packages (from matplotlib) (1.4.8)\n",
      "Requirement already satisfied: numpy>=1.23 in c:\\users\\ubayd\\miniconda3\\lib\\site-packages (from matplotlib) (2.2.2)\n",
      "Requirement already satisfied: packaging>=20.0 in c:\\users\\ubayd\\miniconda3\\lib\\site-packages (from matplotlib) (24.1)\n",
      "Requirement already satisfied: pillow>=8 in c:\\users\\ubayd\\miniconda3\\lib\\site-packages (from matplotlib) (11.1.0)\n",
      "Requirement already satisfied: pyparsing>=2.3.1 in c:\\users\\ubayd\\miniconda3\\lib\\site-packages (from matplotlib) (3.2.1)\n",
      "Requirement already satisfied: python-dateutil>=2.7 in c:\\users\\ubayd\\miniconda3\\lib\\site-packages (from matplotlib) (2.9.0.post0)\n",
      "Requirement already satisfied: six>=1.5 in c:\\users\\ubayd\\miniconda3\\lib\\site-packages (from python-dateutil>=2.7->matplotlib) (1.17.0)\n"
     ]
    }
   ],
   "source": [
    "pip install matplotlib"
   ]
  },
  {
   "cell_type": "code",
   "execution_count": 2,
   "id": "48a6a2be-2e30-464f-9e96-425b3079eb23",
   "metadata": {},
   "outputs": [],
   "source": [
    "import numpy as np\n",
    "import pandas as pd\n",
    "from matplotlib import pyplot as plt\n",
    "\n",
    "data = pd.read_csv('mnist_train.csv')"
   ]
  },
  {
   "cell_type": "code",
   "execution_count": 3,
   "id": "3f76c009-f662-45fa-a1e9-8372ec2365d5",
   "metadata": {},
   "outputs": [],
   "source": [
    "data = np.array(data)\n",
    "m, n = data.shape\n",
    "np.random.shuffle(data) # shuffle before splitting into dev and training sets\n",
    "\n",
    "data_dev = data[0:1000].T\n",
    "Y_dev = data_dev[0]\n",
    "X_dev = data_dev[1:n]\n",
    "X_dev = X_dev / 255.\n",
    "\n",
    "data_train = data[1000:m].T\n",
    "Y_train = data_train[0]\n",
    "X_train = data_train[1:n]\n",
    "X_train = X_train / 255.\n",
    "\n",
    "_,m_train = X_train.shape"
   ]
  },
  {
   "cell_type": "code",
   "execution_count": 4,
   "id": "71efd55c-3516-493d-9877-1c1612b1f8d9",
   "metadata": {},
   "outputs": [
    {
     "data": {
      "text/plain": [
       "array([5, 5, 1, ..., 2, 7, 0], shape=(12999,))"
      ]
     },
     "execution_count": 4,
     "metadata": {},
     "output_type": "execute_result"
    }
   ],
   "source": [
    "Y_train"
   ]
  },
  {
   "cell_type": "code",
   "execution_count": 5,
   "id": "04deee44-8928-4926-8826-0448aecc1378",
   "metadata": {},
   "outputs": [],
   "source": [
    "def initialParameters():\n",
    "    W1 = np.random.rand(10, 784) - 0.5\n",
    "    b1 = np.random.rand(10, 1) - 0.5\n",
    "    W2 = np.random.rand(10, 10) - 0.5\n",
    "    b2 = np.random.rand(10, 1) - 0.5\n",
    "    return W1, b1, W2, b2"
   ]
  },
  {
   "cell_type": "code",
   "execution_count": 6,
   "id": "041022c0-adbb-468b-9e41-9f39c6761750",
   "metadata": {},
   "outputs": [],
   "source": [
    "def ReLU(Z):\n",
    "    return np.maximum(Z, 0)\n",
    "\n",
    "def softmax(Z):\n",
    "    A = np.exp(Z) / sum(np.exp(Z))\n",
    "\n",
    "    return A"
   ]
  },
  {
   "cell_type": "code",
   "execution_count": 7,
   "id": "4a9fc3d6-8770-4e62-ba58-65ccd4c5fa0b",
   "metadata": {},
   "outputs": [],
   "source": [
    "\n",
    "\n",
    "\n",
    "\n",
    "def forwardPropagation(W1, b1, W2, b2, X):\n",
    "    Z1 = W1.dot(X) + b1\n",
    "    A1 = ReLU(Z1)\n",
    "    Z2 = W2.dot(A1) + b2\n",
    "    A2 = softmax(Z2)\n",
    "    return Z1, A1, Z2, A2\n",
    "\n",
    "def ReLU_deriv(Z):\n",
    "    return Z > 0\n"
   ]
  },
  {
   "cell_type": "code",
   "execution_count": 8,
   "id": "be2bd285-d41a-4e79-9f41-55e987cfbee7",
   "metadata": {},
   "outputs": [],
   "source": [
    "def one_hot(Y):\n",
    "    one_hot_Y = np.zeros((Y.size, Y.max() + 1))\n",
    "    one_hot_Y[np.arange(Y.size), Y] = 1\n",
    "    one_hot_Y = one_hot_Y.T\n",
    "    return one_hot_Y"
   ]
  },
  {
   "cell_type": "code",
   "execution_count": 9,
   "id": "706a4c8a-01b4-4dfb-87d8-bafe0927382c",
   "metadata": {},
   "outputs": [],
   "source": [
    "def backwardPropogation(Z1, A1, Z2, A2, W1, W2, X, Y):\n",
    "    one_hot_Y = one_hot(Y)\n",
    "    dZ2 = A2 - one_hot_Y\n",
    "    dW2 = 1 / m * dZ2.dot(A1.T)\n",
    "    db2 = 1 / m * np.sum(dZ2)\n",
    "    dZ1 = W2.T.dot(dZ2) * ReLU_deriv(Z1)\n",
    "    dW1 = 1 / m * dZ1.dot(X.T)\n",
    "    db1 = 1 / m * np.sum(dZ1)\n",
    "    return dW1, db1, dW2, db2\n"
   ]
  },
  {
   "cell_type": "code",
   "execution_count": 10,
   "id": "ad1d9849-3640-4c50-a6f3-fa16c26387ba",
   "metadata": {},
   "outputs": [],
   "source": [
    "def updateParameters(W1, b1, W2, b2, dW1, db1, dW2, db2, alpha):\n",
    "    W1 = W1 - alpha * dW1\n",
    "    b1 = b1 - alpha * db1    \n",
    "    W2 = W2 - alpha * dW2  \n",
    "    b2 = b2 - alpha * db2    \n",
    "    return W1, b1, W2, b2"
   ]
  },
  {
   "cell_type": "code",
   "execution_count": 11,
   "id": "188d3063-085e-49c1-a31a-5230e53b12a2",
   "metadata": {},
   "outputs": [],
   "source": [
    "def getPredictions(A2):\n",
    "    return np.argmax(A2, 0)\n",
    "\n",
    "def getAccuracy(predictions, Y):\n",
    "    print(predictions, Y)\n",
    "    return np.sum(predictions == Y) / Y.size\n"
   ]
  },
  {
   "cell_type": "code",
   "execution_count": 12,
   "id": "3586b55b-c675-4e23-9e94-d8b4f7d1145f",
   "metadata": {},
   "outputs": [],
   "source": [
    "def gradientDescent(X, Y, alpha, iterations):\n",
    "    W1, b1, W2, b2 = initialParameters()\n",
    "    for i in range(iterations):\n",
    "        Z1, A1, Z2, A2 = forwardPropagation(W1, b1, W2, b2, X)\n",
    "        dW1, db1, dW2, db2 = backwardPropogation(Z1, A1, Z2, A2, W1, W2, X, Y)\n",
    "        W1, b1, W2, b2 = updateParameters(W1, b1, W2, b2, dW1, db1, dW2, db2, alpha)\n",
    "        if i % 10 == 0:\n",
    "            print(\"Iteration: \", i)\n",
    "            predictions = getPredictions(A2)\n",
    "            print(getAccuracy(predictions, Y))\n",
    "    return W1, b1, W2, b2"
   ]
  },
  {
   "cell_type": "code",
   "execution_count": 13,
   "id": "deb31166-8072-418f-821c-8f7cd23a3548",
   "metadata": {
    "scrolled": true
   },
   "outputs": [
    {
     "name": "stdout",
     "output_type": "stream",
     "text": [
      "Iteration:  0\n",
      "[7 4 5 ... 4 7 9] [5 5 1 ... 2 7 0]\n",
      "0.09531502423263329\n",
      "Iteration:  10\n",
      "[5 4 5 ... 2 7 9] [5 5 1 ... 2 7 0]\n",
      "0.23355642741749366\n",
      "Iteration:  20\n",
      "[5 4 6 ... 2 7 9] [5 5 1 ... 2 7 0]\n",
      "0.30210016155088854\n",
      "Iteration:  30\n",
      "[5 7 6 ... 2 7 0] [5 5 1 ... 2 7 0]\n",
      "0.3728748365258866\n",
      "Iteration:  40\n",
      "[5 7 6 ... 2 7 0] [5 5 1 ... 2 7 0]\n",
      "0.436802830986999\n",
      "Iteration:  50\n",
      "[5 4 3 ... 2 7 0] [5 5 1 ... 2 7 0]\n",
      "0.4951919378413724\n",
      "Iteration:  60\n",
      "[5 4 3 ... 2 7 0] [5 5 1 ... 2 7 0]\n",
      "0.540964689591507\n",
      "Iteration:  70\n",
      "[8 9 3 ... 2 7 0] [5 5 1 ... 2 7 0]\n",
      "0.5811216247403647\n",
      "Iteration:  80\n",
      "[8 9 3 ... 2 7 0] [5 5 1 ... 2 7 0]\n",
      "0.6088160627740595\n",
      "Iteration:  90\n",
      "[8 9 3 ... 2 7 0] [5 5 1 ... 2 7 0]\n",
      "0.6335871990153089\n",
      "Iteration:  100\n",
      "[8 9 3 ... 2 7 0] [5 5 1 ... 2 7 0]\n",
      "0.6503577198246019\n",
      "Iteration:  110\n",
      "[8 9 3 ... 2 7 0] [5 5 1 ... 2 7 0]\n",
      "0.6675128856065852\n",
      "Iteration:  120\n",
      "[8 9 3 ... 2 7 0] [5 5 1 ... 2 7 0]\n",
      "0.6799753827217478\n",
      "Iteration:  130\n",
      "[8 8 3 ... 2 7 0] [5 5 1 ... 2 7 0]\n",
      "0.6926686668205246\n",
      "Iteration:  140\n",
      "[8 5 3 ... 2 7 0] [5 5 1 ... 2 7 0]\n",
      "0.7037464420340026\n",
      "Iteration:  150\n",
      "[8 5 3 ... 2 7 0] [5 5 1 ... 2 7 0]\n",
      "0.7132856373567198\n",
      "Iteration:  160\n",
      "[5 5 3 ... 2 7 0] [5 5 1 ... 2 7 0]\n",
      "0.723132548657589\n",
      "Iteration:  170\n",
      "[5 5 3 ... 2 7 0] [5 5 1 ... 2 7 0]\n",
      "0.7295176552042465\n",
      "Iteration:  180\n",
      "[5 5 3 ... 2 7 0] [5 5 1 ... 2 7 0]\n",
      "0.7377490576198169\n",
      "Iteration:  190\n",
      "[5 5 3 ... 2 7 0] [5 5 1 ... 2 7 0]\n",
      "0.7440572351719363\n",
      "Iteration:  200\n",
      "[5 5 3 ... 2 7 0] [5 5 1 ... 2 7 0]\n",
      "0.7492114778059851\n",
      "Iteration:  210\n",
      "[5 5 8 ... 2 7 0] [5 5 1 ... 2 7 0]\n",
      "0.7542887914454958\n",
      "Iteration:  220\n",
      "[5 5 8 ... 2 7 0] [5 5 1 ... 2 7 0]\n",
      "0.7595199630740826\n",
      "Iteration:  230\n",
      "[5 5 8 ... 2 7 0] [5 5 1 ... 2 7 0]\n",
      "0.7649819216862835\n",
      "Iteration:  240\n",
      "[5 5 8 ... 2 7 0] [5 5 1 ... 2 7 0]\n",
      "0.7694438033694899\n",
      "Iteration:  250\n",
      "[5 5 8 ... 2 7 0] [5 5 1 ... 2 7 0]\n",
      "0.7740595430417725\n",
      "Iteration:  260\n",
      "[5 5 8 ... 2 7 0] [5 5 1 ... 2 7 0]\n",
      "0.778752211708593\n",
      "Iteration:  270\n",
      "[5 5 8 ... 2 7 0] [5 5 1 ... 2 7 0]\n",
      "0.7840603123317178\n",
      "Iteration:  280\n",
      "[5 5 8 ... 2 7 0] [5 5 1 ... 2 7 0]\n",
      "0.7887529809985383\n",
      "Iteration:  290\n",
      "[5 5 8 ... 2 7 0] [5 5 1 ... 2 7 0]\n",
      "0.7924455727363643\n",
      "Iteration:  300\n",
      "[5 5 8 ... 2 7 0] [5 5 1 ... 2 7 0]\n",
      "0.7966766674359567\n",
      "Iteration:  310\n",
      "[5 5 8 ... 2 7 0] [5 5 1 ... 2 7 0]\n",
      "0.8001384721901684\n",
      "Iteration:  320\n",
      "[5 5 8 ... 2 7 0] [5 5 1 ... 2 7 0]\n",
      "0.8038310639279944\n",
      "Iteration:  330\n",
      "[5 5 8 ... 2 7 0] [5 5 1 ... 2 7 0]\n",
      "0.8080621586275868\n",
      "Iteration:  340\n",
      "[5 5 8 ... 2 7 0] [5 5 1 ... 2 7 0]\n",
      "0.8106008154473421\n",
      "Iteration:  350\n",
      "[5 5 8 ... 2 7 0] [5 5 1 ... 2 7 0]\n",
      "0.8139856912070159\n",
      "Iteration:  360\n",
      "[5 5 8 ... 2 7 0] [5 5 1 ... 2 7 0]\n",
      "0.8166012770213094\n",
      "Iteration:  370\n",
      "[5 5 8 ... 2 7 0] [5 5 1 ... 2 7 0]\n",
      "0.8193707208246788\n",
      "Iteration:  380\n",
      "[5 5 8 ... 2 7 0] [5 5 1 ... 2 7 0]\n",
      "0.8210631587045157\n",
      "Iteration:  390\n",
      "[5 5 8 ... 2 7 0] [5 5 1 ... 2 7 0]\n",
      "0.8237556735133472\n",
      "Iteration:  400\n",
      "[5 5 8 ... 2 7 0] [5 5 1 ... 2 7 0]\n",
      "0.8256788983767982\n",
      "Iteration:  410\n",
      "[5 5 8 ... 2 7 0] [5 5 1 ... 2 7 0]\n",
      "0.8276790522347873\n",
      "Iteration:  420\n",
      "[5 5 8 ... 2 7 0] [5 5 1 ... 2 7 0]\n",
      "0.8305254250326948\n",
      "Iteration:  430\n",
      "[5 5 8 ... 2 7 0] [5 5 1 ... 2 7 0]\n",
      "0.8326025078852219\n",
      "Iteration:  440\n",
      "[5 5 8 ... 2 7 0] [5 5 1 ... 2 7 0]\n",
      "0.8345257327486729\n",
      "Iteration:  450\n",
      "[5 5 8 ... 2 7 0] [5 5 1 ... 2 7 0]\n",
      "0.8362950996230479\n",
      "Iteration:  460\n",
      "[5 5 8 ... 2 7 0] [5 5 1 ... 2 7 0]\n",
      "0.8376798215247326\n",
      "Iteration:  470\n",
      "[5 5 8 ... 2 7 0] [5 5 1 ... 2 7 0]\n",
      "0.8389876144318794\n",
      "Iteration:  480\n",
      "[5 5 8 ... 2 7 0] [5 5 1 ... 2 7 0]\n",
      "0.8405261943226402\n",
      "Iteration:  490\n",
      "[5 5 8 ... 2 7 0] [5 5 1 ... 2 7 0]\n",
      "0.8417570582352488\n"
     ]
    }
   ],
   "source": [
    "W1, b1, W2, b2 = gradientDescent(X_train, Y_train, 0.10, 500)"
   ]
  },
  {
   "cell_type": "code",
   "execution_count": 14,
   "id": "ea2a0c57-60d5-49bf-9ebe-0268e278af94",
   "metadata": {},
   "outputs": [],
   "source": [
    "def makePredictions(X, W1, b1, W2, b2):\n",
    "    _, _, _, A2 = forwardPropagation(W1, b1, W2, b2, X)\n",
    "    predictions = getPredictions(A2)\n",
    "    return predictions\n",
    "\n",
    "def test_prediction(index, W1, b1, W2, b2):\n",
    "    currentImage = X_train[:, index, None]\n",
    "    prediction = makePredictions(X_train[:, index, None], W1, b1, W2, b2)\n",
    "    label = Y_train[index]\n",
    "    print(\"Prediction: \", prediction)\n",
    "    print(\"Label: \", label)\n",
    "    \n",
    "    currentImage = currentImage.reshape((28, 28)) * 255\n",
    "    plt.gray()\n",
    "    plt.imshow(currentImage, interpolation='nearest')\n",
    "    plt.show()"
   ]
  },
  {
   "cell_type": "code",
   "execution_count": 15,
   "id": "7b86df84-5e9f-4337-a21a-e0de238116f0",
   "metadata": {},
   "outputs": [
    {
     "name": "stdout",
     "output_type": "stream",
     "text": [
      "Prediction:  [5]\n",
      "Label:  5\n"
     ]
    },
    {
     "data": {
      "image/png": "[encoded data removed]",
      "text/plain": [
       "<Figure size 640x480 with 1 Axes>"
      ]
     },
     "metadata": {},
     "output_type": "display_data"
    },
    {
     "name": "stdout",
     "output_type": "stream",
     "text": [
      "Prediction:  [5]\n",
      "Label:  5\n"
     ]
    },
    {
     "data": {
      "image/png": "[encoded data removed]",
      "text/plain": [
       "<Figure size 640x480 with 1 Axes>"
      ]
     },
     "metadata": {},
     "output_type": "display_data"
    },
    {
     "name": "stdout",
     "output_type": "stream",
     "text": [
      "Prediction:  [8]\n",
      "Label:  1\n"
     ]
    },
    {
     "data": {
      "image/png": "[encoded data removed]",
      "text/plain": [
       "<Figure size 640x480 with 1 Axes>"
      ]
     },
     "metadata": {},
     "output_type": "display_data"
    },
    {
     "name": "stdout",
     "output_type": "stream",
     "text": [
      "Prediction:  [9]\n",
      "Label:  9\n"
     ]
    },
    {
     "data": {
      "image/png": "[encoded data removed]",
      "text/plain": [
       "<Figure size 640x480 with 1 Axes>"
      ]
     },
     "metadata": {},
     "output_type": "display_data"
    }
   ],
   "source": [
    "test_prediction(0, W1, b1, W2, b2)\n",
    "test_prediction(1, W1, b1, W2, b2)\n",
    "test_prediction(2, W1, b1, W2, b2)\n",
    "test_prediction(3, W1, b1, W2, b2)"
   ]
  },
  {
   "cell_type": "code",
   "execution_count": 18,
   "id": "93c4aed9-c677-4793-ab28-f312b0b65f49",
   "metadata": {},
   "outputs": [
    {
     "name": "stdout",
     "output_type": "stream",
     "text": [
      "[6 9 5 9 3 1 5 0 6 1 4 3 6 5 4 1 1 5 4 8 9 7 7 7 8 3 5 7 6 0 6 9 0 7 1 8 1\n",
      " 2 0 0 1 6 3 4 4 9 5 6 2 3 3 7 0 0 7 9 5 6 7 1 7 3 9 8 0 4 4 7 2 9 3 0 8 4\n",
      " 7 2 3 8 6 3 6 9 7 7 1 2 5 9 7 8 7 3 8 7 0 0 5 5 1 6 8 3 6 8 7 3 7 4 5 7 9\n",
      " 1 5 5 1 1 7 5 1 2 8 7 9 1 5 3 0 5 7 9 7 3 6 1 3 5 2 7 0 3 8 2 7 5 8 2 6 0\n",
      " 2 3 1 3 9 7 3 8 6 7 3 1 7 6 1 4 8 1 3 5 8 1 1 6 3 6 3 3 6 9 9 2 6 7 8 1 4\n",
      " 1 3 9 0 4 0 7 0 8 1 0 1 9 3 1 9 6 9 3 5 4 4 5 4 1 9 6 9 1 8 3 8 8 9 9 5 2\n",
      " 8 0 1 4 8 4 7 4 9 8 7 5 3 0 5 9 4 6 6 6 1 5 0 0 8 6 2 0 8 0 6 6 9 8 6 4 4\n",
      " 5 6 7 3 2 0 1 1 5 1 5 2 8 1 8 9 6 9 6 9 5 3 9 0 1 9 3 3 7 1 1 9 9 7 6 3 8\n",
      " 7 3 9 2 0 1 1 4 0 3 3 6 9 1 1 9 6 2 6 9 4 3 2 1 0 7 8 7 2 6 5 1 0 0 1 0 3\n",
      " 9 1 9 2 5 9 1 5 5 9 3 3 5 1 7 9 4 1 0 9 0 6 2 4 1 2 6 5 9 5 4 2 2 1 0 8 1\n",
      " 2 9 8 7 6 3 6 4 2 1 8 0 8 6 5 9 6 8 4 1 8 2 9 9 4 0 0 5 5 5 5 7 1 3 6 2 7\n",
      " 7 6 9 4 5 3 0 9 3 1 3 7 1 6 0 7 2 8 4 7 6 1 4 5 5 6 5 5 4 8 6 8 2 1 2 5 6\n",
      " 9 7 5 3 1 8 0 4 0 0 2 4 3 3 6 6 6 1 9 3 9 3 2 2 6 6 8 0 4 2 6 6 4 2 6 2 9\n",
      " 9 0 8 6 8 9 3 4 1 6 9 9 4 3 0 8 3 1 3 8 3 2 8 7 3 3 0 4 2 5 3 5 9 5 7 1 5\n",
      " 7 1 4 7 4 7 8 2 8 6 0 0 7 5 7 5 7 2 6 6 6 0 7 8 9 9 6 6 9 8 1 9 7 7 7 7 9\n",
      " 1 1 6 6 8 8 5 2 1 8 8 8 1 1 1 9 7 2 8 3 6 9 9 3 3 7 1 7 1 7 9 9 3 7 8 2 6\n",
      " 2 5 5 6 7 2 7 7 1 8 4 0 5 3 3 2 2 1 9 6 6 7 3 3 2 1 8 2 6 0 2 0 7 5 4 1 4\n",
      " 5 4 2 1 0 7 9 7 1 1 9 0 9 3 5 9 7 2 1 9 1 3 7 6 0 9 8 3 3 6 4 5 0 4 0 0 3\n",
      " 2 1 0 2 1 0 2 8 2 1 0 3 2 9 6 7 6 1 8 3 9 7 3 6 0 8 0 2 6 2 4 7 7 1 4 3 3\n",
      " 0 2 8 5 3 4 0 5 2 6 7 2 7 5 0 3 5 3 9 1 6 2 2 9 8 3 1 0 2 1 6 9 6 8 5 5 1\n",
      " 9 4 5 9 8 6 0 8 6 4 0 9 0 4 7 5 7 7 2 1 5 2 2 0 1 3 7 6 2 1 6 1 2 7 8 0 0\n",
      " 6 7 1 7 3 6 9 0 1 3 3 9 7 4 2 0 6 6 7 1 3 0 2 0 8 9 2 3 5 8 6 0 9 2 9 2 9\n",
      " 8 3 8 2 3 7 1 7 1 0 9 5 3 5 2 6 9 9 8 4 2 7 0 1 5 8 2 2 3 3 6 8 7 7 6 2 9\n",
      " 5 7 0 3 9 6 6 1 0 0 6 7 5 7 2 2 4 5 3 2 0 9 1 0 9 7 2 9 7 3 5 2 5 1 2 3 3\n",
      " 3 1 4 7 2 9 0 7 3 1 3 3 5 4 8 3 0 4 3 0 0 2 4 7 4 8 7 1 5 2 7 8 2 7 4 4 4\n",
      " 6 4 0 4 1 6 2 0 8 0 5 9 5 2 9 8 9 7 1 3 0 5 6 9 1 9 7 6 1 8 4 1 8 6 3 8 3\n",
      " 8 2 7 6 1 0 7 2 8 9 1 6 0 6 4 8 1 6 9 3 7 8 6 3 0 5 3 3 8 7 1 6 4 9 9 5 1\n",
      " 4] [6 9 5 9 3 1 5 0 6 1 2 2 6 5 4 1 9 5 4 8 9 7 7 7 8 3 6 7 6 0 6 9 0 7 1 8 1\n",
      " 2 0 0 1 6 3 4 4 7 3 6 2 3 3 7 0 0 7 9 5 6 7 1 7 3 2 8 0 4 4 7 2 9 5 0 9 4\n",
      " 9 6 5 1 6 3 6 4 7 7 1 3 5 9 7 8 7 8 8 9 0 0 5 5 1 6 5 3 6 8 7 3 7 4 5 7 9\n",
      " 1 5 5 1 1 7 5 4 2 8 7 9 1 3 3 0 5 7 8 7 2 6 1 3 8 2 7 0 3 8 2 7 8 8 6 6 0\n",
      " 2 5 2 8 9 7 3 2 6 9 3 7 7 1 9 9 8 1 3 5 8 1 1 6 3 6 5 3 6 7 9 2 6 7 8 4 4\n",
      " 2 3 9 0 4 0 1 0 2 1 0 1 9 3 1 7 6 9 3 5 4 4 6 4 1 9 6 7 1 8 3 3 0 9 9 5 0\n",
      " 8 0 1 4 6 2 7 4 9 8 7 5 5 0 5 9 4 6 6 6 1 5 5 0 8 2 2 0 8 0 6 6 7 8 6 4 4\n",
      " 5 6 7 2 2 0 1 1 5 1 5 2 8 1 1 9 6 9 6 9 5 3 9 0 1 9 3 3 7 1 1 9 8 7 6 3 3\n",
      " 7 3 8 2 0 1 1 4 0 3 3 6 9 1 1 3 6 2 6 9 4 7 2 1 0 8 8 7 2 6 5 1 0 0 1 0 3\n",
      " 9 1 3 2 5 9 1 5 8 9 3 3 5 1 7 9 4 1 0 9 0 6 2 4 1 2 6 5 9 5 4 2 2 1 0 8 1\n",
      " 2 9 8 7 6 3 2 4 8 1 5 0 8 6 5 4 6 8 4 1 8 2 9 4 2 0 0 5 5 3 5 7 1 3 6 2 7\n",
      " 7 6 9 4 5 3 0 1 8 1 3 7 1 0 0 7 2 8 4 7 6 1 7 5 5 6 5 5 4 8 6 8 2 1 2 5 6\n",
      " 4 7 5 3 1 7 0 4 0 0 3 4 3 3 6 6 6 1 9 8 9 3 2 2 6 2 8 0 4 2 6 6 4 2 6 2 9\n",
      " 9 0 8 4 8 4 3 4 1 6 9 9 4 3 0 5 3 1 0 8 3 2 8 7 3 3 0 4 2 5 3 5 9 6 7 7 5\n",
      " 7 1 9 7 8 9 5 2 8 4 0 0 7 5 7 5 7 2 6 6 6 0 7 3 9 9 6 6 9 8 1 9 7 7 7 7 8\n",
      " 1 1 6 6 8 8 5 7 1 3 8 8 1 1 1 8 7 2 8 3 6 9 9 3 3 7 3 9 1 7 9 9 3 7 3 2 6\n",
      " 2 5 5 6 7 2 7 7 1 0 4 0 5 8 3 2 2 1 9 6 6 7 3 0 2 1 8 3 6 0 2 0 7 5 4 1 9\n",
      " 5 4 2 1 0 2 7 9 1 1 5 0 9 3 5 4 7 2 9 4 1 3 7 6 0 9 8 3 3 6 9 5 0 9 0 0 3\n",
      " 2 1 0 2 1 0 2 8 2 1 0 3 2 9 6 7 6 1 8 3 7 7 5 6 0 8 0 2 6 2 4 9 7 1 9 3 5\n",
      " 0 2 8 8 7 4 0 6 3 4 7 2 7 8 0 3 5 3 9 2 6 2 2 9 8 9 1 0 2 1 6 7 6 3 5 5 1\n",
      " 4 4 0 9 8 6 0 8 6 4 0 7 0 4 7 5 7 7 2 1 3 2 8 0 1 8 7 6 2 1 4 1 2 7 8 0 0\n",
      " 6 7 1 7 5 5 7 0 1 3 3 4 9 4 2 0 6 6 7 1 3 0 2 0 1 4 2 5 8 8 6 0 9 2 4 2 9\n",
      " 8 3 3 2 3 7 1 7 1 0 9 5 3 5 2 6 4 9 3 4 2 7 0 1 6 1 5 2 3 3 6 8 7 7 6 2 4\n",
      " 6 7 0 3 9 6 6 1 0 2 6 7 5 7 2 2 9 5 3 2 0 9 1 0 9 7 2 7 7 3 5 2 5 1 2 3 5\n",
      " 3 1 4 7 2 9 0 7 3 1 3 3 5 4 8 3 0 4 3 0 0 2 9 7 4 8 7 1 0 2 7 3 2 7 4 9 4\n",
      " 6 4 0 4 1 6 6 0 8 0 5 9 5 2 9 5 9 7 1 3 0 5 6 9 1 8 7 6 1 4 4 1 8 6 3 8 3\n",
      " 8 2 7 6 1 0 7 2 8 9 1 6 0 6 4 8 1 6 9 3 7 6 5 3 0 5 3 5 8 3 1 6 1 9 9 5 1\n",
      " 4]\n"
     ]
    },
    {
     "data": {
      "text/plain": [
       "np.float64(0.832)"
      ]
     },
     "execution_count": 18,
     "metadata": {},
     "output_type": "execute_result"
    }
   ],
   "source": [
    "dev_predictions = makePredictions(X_dev, W1, b1, W2, b2)\n",
    "getAccuracy(dev_predictions, Y_dev)"
   ]
  }
 ],
 "metadata": {
  "kernelspec": {
   "display_name": "Python 3 (ipykernel)",
   "language": "python",
   "name": "python3"
  },
  "language_info": {
   "codemirror_mode": {
    "name": "ipython",
    "version": 3
   },
   "file_extension": ".py",
   "mimetype": "text/x-python",
   "name": "python",
   "nbconvert_exporter": "python",
   "pygments_lexer": "ipython3",
   "version": "3.12.8"
  }
 },
 "nbformat": 4,
 "nbformat_minor": 5
}
